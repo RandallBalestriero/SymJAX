{
  "cells": [
    {
      "cell_type": "code",
      "execution_count": null,
      "metadata": {
        "collapsed": false
      },
      "outputs": [],
      "source": [
        "%matplotlib inline"
      ]
    },
    {
      "cell_type": "markdown",
      "metadata": {},
      "source": [
        "\nBasic (linear) deconvolution filter learning\n============================================\n\ndemonstration on how to learn a deconvolutional filter\nbased on some flavors of gradietn descent assuming we know\nthe true output\n"
      ]
    },
    {
      "cell_type": "code",
      "execution_count": null,
      "metadata": {
        "collapsed": false
      },
      "outputs": [],
      "source": [
        "import symjax\nimport symjax.tensor as T\nimport matplotlib.pyplot as plt\nimport numpy as np\nfrom scipy.signal import convolve2d\n\nimport os\n\nos.environ[\"DATASET_PATH\"] = \"/home/vrael/DATASETS/\"\n\nsymjax.current_graph().reset()\n\n\ntrue_image = symjax.data.mnist.load()\n# 2d image\ntrue_image = true_image[\"train_set/images\"][0, 0]\ntrue_image /= true_image.max()\n\nnp.random.seed(0)\n\nnoisy_image = convolve2d(true_image, np.random.randn(5, 5) / 5, \"same\")\n\n# GRADIENT DESCENT\nfilter_1 = T.Variable(np.random.randn(8, 8) / 8, dtype=\"float32\")\nfilter_2 = T.Variable(filter_1.value, dtype=\"float32\")\n\nreconstruction_1 = T.signal.convolve2d(noisy_image, filter_1, \"same\")\nreconstruction_2 = T.signal.convolve2d(noisy_image, filter_2, \"same\")\n\nloss1 = T.abs(reconstruction_1 - true_image).mean()\nloss2 = (T.abs(reconstruction_2 - true_image) ** 2).mean()\n\nlr = symjax.nn.schedules.PiecewiseConstant(0.05, {5000: 0.01, 8000: 0.005})\nsymjax.nn.optimizers.Adam(loss1 + loss2, lr)\n\ntrain = symjax.function(outputs=[loss1, loss2], updates=symjax.get_updates())\n\nrec = symjax.function(outputs=[reconstruction_1, reconstruction_2])\n\nlosses_1 = list()\nlosses_2 = list()\n\nfor i in range(10000):\n    losses = train()\n    losses_1.append(losses[0])\n    losses_2.append(losses[1])\n\nreconstruction_1, reconstruction_2 = rec()\n\n\nplt.figure(figsize=(12, 6))\n\nplt.subplot(221)\nplt.semilogy(losses_1, \"-x\")\nplt.ylabel(\"log-loss (l1)\")\nplt.xlabel(\"number of gradient updates\")\n\n\nplt.subplot(222)\nplt.semilogy(losses_2, \"-x\")\nplt.ylabel(\"log-loss (l2)\")\nplt.xlabel(\"number of gradient updates\")\n\n\nplt.subplot(245)\nplt.imshow(reconstruction_1, aspect=\"auto\", origin=\"lower\", cmap=\"plasma\")\nplt.xticks([])\nplt.yticks([])\nplt.title(\"reconstruction (l1)\")\n\n\nplt.subplot(246)\nplt.imshow(reconstruction_2, aspect=\"auto\", origin=\"lower\", cmap=\"plasma\")\nplt.xticks([])\nplt.yticks([])\nplt.title(\"reconstruction (l2)\")\n\n\nplt.subplot(247)\nplt.imshow(true_image, aspect=\"auto\", origin=\"lower\", cmap=\"plasma\")\nplt.xticks([])\nplt.yticks([])\nplt.title(\"True image\")\n\nplt.subplot(248)\nplt.imshow(noisy_image, aspect=\"auto\", origin=\"lower\", cmap=\"plasma\")\nplt.xticks([])\nplt.yticks([])\nplt.title(\"Convolved image\")\n\n\nplt.tight_layout()\nplt.show()"
      ]
    }
  ],
  "metadata": {
    "kernelspec": {
      "display_name": "Python 3",
      "language": "python",
      "name": "python3"
    },
    "language_info": {
      "codemirror_mode": {
        "name": "ipython",
        "version": 3
      },
      "file_extension": ".py",
      "mimetype": "text/x-python",
      "name": "python",
      "nbconvert_exporter": "python",
      "pygments_lexer": "ipython3",
      "version": "3.7.7"
    }
  },
  "nbformat": 4,
  "nbformat_minor": 0
}