{
  "cells": [
    {
      "cell_type": "code",
      "execution_count": null,
      "metadata": {
        "collapsed": false
      },
      "outputs": [],
      "source": [
        "%matplotlib inline"
      ]
    },
    {
      "cell_type": "markdown",
      "metadata": {},
      "source": [
        "\nBasic image resampling and alignment\n====================================\n\ndemonstration on how to perform basic image preprocessing\n"
      ]
    },
    {
      "cell_type": "code",
      "execution_count": null,
      "metadata": {
        "collapsed": false
      },
      "outputs": [],
      "source": [
        "import matplotlib.pyplot as plt\nimport numpy as np\nimport symjax\n\n\nimage1 = np.random.rand(3, 2, 4)\nimage2 = np.random.rand(3, 4, 2)\nimage3 = np.random.rand(3, 4, 4)\nall_images = [image1, image2, image3]\n\nimages = symjax.data.utils.resample_images(all_images, (6, 6))\n\nfig = plt.figure(figsize=(8, 3))\nfor i in range(3):\n\n    plt.subplot(2, 3, i + 1)\n    plt.imshow(\n        all_images[i].transpose(1, 2, 0), aspect=\"auto\", vmax=10, cmap=\"jet\"\n    )\n    plt.xticks([])\n    plt.yticks([])\n\n    plt.subplot(2, 3, i + 4)\n    plt.imshow(\n        images[i].transpose(1, 2, 0), aspect=\"auto\", vmax=10, cmap=\"jet\"\n    )\n    plt.xticks([])\n    plt.yticks([])\n\nplt.tight_layout()"
      ]
    }
  ],
  "metadata": {
    "kernelspec": {
      "display_name": "Python 3",
      "language": "python",
      "name": "python3"
    },
    "language_info": {
      "codemirror_mode": {
        "name": "ipython",
        "version": 3
      },
      "file_extension": ".py",
      "mimetype": "text/x-python",
      "name": "python",
      "nbconvert_exporter": "python",
      "pygments_lexer": "ipython3",
      "version": "3.7.6"
    }
  },
  "nbformat": 4,
  "nbformat_minor": 0
}