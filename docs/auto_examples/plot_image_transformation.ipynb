{
  "cells": [
    {
      "cell_type": "code",
      "execution_count": null,
      "metadata": {
        "collapsed": false
      },
      "outputs": [],
      "source": [
        "%matplotlib inline"
      ]
    },
    {
      "cell_type": "markdown",
      "metadata": {},
      "source": [
        "\nBasic image transform (TPS/affine)\n==================================\n\nIn this example we demonstrate how to employ the utility functions from\n``symjax.tensor.interpolation.affine_transform`` and\n``symjax.tensor.interpolation.thin_plate_spline``\nto transform/interpolate images\n"
      ]
    },
    {
      "cell_type": "code",
      "execution_count": null,
      "metadata": {
        "collapsed": false
      },
      "outputs": [],
      "source": [
        "import matplotlib.pyplot as plt\nimport symjax\nimport symjax.tensor as T\nimport numpy as np\n\nx = T.Placeholder((10, 1, 28, 28), \"float32\")\npoints = T.Placeholder((10, 2 * 16), \"float32\")\nthetas = T.Placeholder((10, 6), \"float32\")\n\naffine = T.interpolation.affine_transform(x, thetas)\ntps = T.interpolation.thin_plate_spline(x, points)\n\nf = symjax.function(x, thetas, outputs=affine)\ng = symjax.function(x, points, outputs=tps)\n\n\ndata = symjax.data.mnist()[\"train_set/images\"][:10]\n\n\nplt.figure(figsize=(20, 6))\nplt.subplot(2, 8, 1)\nplt.imshow(data[0][0])\nplt.title(\"original\")\nplt.ylabel(\"TPS\")\nplt.xticks([])\nplt.yticks([])\n\nplt.subplot(2, 8, 2)\npoints = np.zeros((10, 2 * 16))\nplt.imshow(g(data, points)[0][0])\nplt.title(\"identity\")\nplt.xticks([])\nplt.yticks([])\n\nplt.subplot(2, 8, 3)\npoints = np.zeros((10, 2 * 16))\npoints[:, :16] += 0.3\nplt.imshow(g(data, points)[0][0])\nplt.title(\"x translation\")\nplt.xticks([])\nplt.yticks([])\n\nplt.subplot(2, 8, 4)\npoints = np.zeros((10, 2 * 16))\npoints[:, 16:] += 0.3\nplt.imshow(g(data, points)[0][0])\nplt.title(\"y translation\")\nplt.xticks([])\nplt.yticks([])\n\nplt.subplot(2, 8, 5)\npoints = np.random.randn(10, 2 * 16) * 0.2\nplt.imshow(g(data, points)[0][0])\nplt.title(\"random\")\nplt.xticks([])\nplt.yticks([])\n\nplt.subplot(2, 8, 6)\npoints = np.meshgrid(np.linspace(-1, 1, 4), np.linspace(-1, 1, 4))\npoints = np.concatenate([points[0].reshape(-1), points[1].reshape(-1)]) * 0.4\npoints = points[None] * np.ones((10, 1))\nplt.imshow(g(data, points)[0][0])\nplt.title(\"zoom\")\nplt.xticks([])\nplt.yticks([])\n\nplt.subplot(2, 8, 7)\npoints = np.meshgrid(np.linspace(-1, 1, 4), np.linspace(-1, 1, 4))\npoints = np.concatenate([points[0].reshape(-1), points[1].reshape(-1)]) * -0.2\npoints = points[None] * np.ones((10, 1))\nplt.imshow(g(data, points)[0][0])\nplt.title(\"zoom\")\nplt.xticks([])\nplt.yticks([])\n\nplt.subplot(2, 8, 8)\npoints = np.zeros((10, 2 * 16))\npoints[:, 1::2] -= 0.1\npoints[:, ::2] += 0.1\nplt.imshow(g(data, points)[0][0])\nplt.title(\"blob\")\nplt.xticks([])\nplt.yticks([])\n\nplt.subplot(2, 8, 9)\nplt.imshow(data[0][0])\nplt.title(\"original\")\nplt.ylabel(\"Affine\")\nplt.xticks([])\nplt.yticks([])\n\nplt.subplot(2, 8, 10)\npoints = np.zeros((10, 6))\npoints[:, 0] = 1\npoints[:, 4] = 1\nplt.imshow(f(data, points)[0][0])\nplt.title(\"identity\")\nplt.xticks([])\nplt.yticks([])\n\nplt.subplot(2, 8, 11)\npoints = np.zeros((10, 6))\npoints[:, 0] = 1\npoints[:, 4] = 1\npoints[:, 2] = 0.2\nplt.imshow(f(data, points)[0][0])\nplt.title(\"x translation\")\nplt.xticks([])\nplt.yticks([])\n\nplt.subplot(2, 8, 12)\npoints = np.zeros((10, 6))\npoints[:, 0] = 1\npoints[:, 4] = 1\npoints[:, 5] = 0.2\nplt.imshow(f(data, points)[0][0])\nplt.title(\"y translation\")\nplt.xticks([])\nplt.yticks([])\n\nplt.subplot(2, 8, 13)\npoints = np.zeros((10, 6))\npoints[:, 0] = 1\npoints[:, 4] = 1\npoints[:, 1] = 0.4\nplt.imshow(f(data, points)[0][0])\nplt.title(\"skewness x\")\nplt.xticks([])\nplt.yticks([])\n\nplt.subplot(2, 8, 14)\npoints = np.zeros((10, 6))\npoints[:, 0] = 1.4\npoints[:, 4] = 1.4\nplt.imshow(f(data, points)[0][0])\nplt.title(\"zoom\")\nplt.xticks([])\nplt.yticks([])\n\nplt.subplot(2, 8, 15)\npoints = np.zeros((10, 6))\npoints[:, 0] = 1.4\npoints[:, 4] = 1.0\nplt.imshow(f(data, points)[0][0])\nplt.title(\"zoom x\")\nplt.xticks([])\nplt.yticks([])\n\nplt.subplot(2, 8, 16)\npoints = np.zeros((10, 6))\npoints[:, 0] = 1\npoints[:, 4] = 1\npoints[:, 3] = 0.4\nplt.imshow(f(data, points)[0][0])\nplt.title(\"skewness y\")\nplt.xticks([])\nplt.yticks([])\n\n\nplt.tight_layout()\nplt.show()"
      ]
    }
  ],
  "metadata": {
    "kernelspec": {
      "display_name": "Python 3",
      "language": "python",
      "name": "python3"
    },
    "language_info": {
      "codemirror_mode": {
        "name": "ipython",
        "version": 3
      },
      "file_extension": ".py",
      "mimetype": "text/x-python",
      "name": "python",
      "nbconvert_exporter": "python",
      "pygments_lexer": "ipython3",
      "version": "3.7.6"
    }
  },
  "nbformat": 4,
  "nbformat_minor": 0
}