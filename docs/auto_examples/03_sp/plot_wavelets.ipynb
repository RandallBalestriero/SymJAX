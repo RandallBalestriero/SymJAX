{
  "cells": [
    {
      "cell_type": "code",
      "execution_count": null,
      "metadata": {
        "collapsed": false
      },
      "outputs": [],
      "source": [
        "%matplotlib inline"
      ]
    },
    {
      "cell_type": "markdown",
      "metadata": {},
      "source": [
        "\nMorlet Wavelet in time and Fourier domain\n=========================================\n\n\nThis example shows how to generate a wavelet filter-bank.\n"
      ]
    },
    {
      "cell_type": "code",
      "execution_count": null,
      "metadata": {
        "collapsed": false
      },
      "outputs": [],
      "source": [
        "import symjax\nimport symjax.tensor as T\nimport matplotlib.pyplot as plt\nimport numpy as np\n\nJ = 5\nQ = 4\nscales = T.power(2, T.linspace(0.1, J - 1, J * Q))\nscales = scales[:, None]\n\nwavelet = symjax.tensor.signal.complex_morlet(5 * scales, np.pi / scales)\nwaveletw = symjax.tensor.signal.fourier_complex_morlet(\n    5 * scales, np.pi / scales, wavelet.shape[-1]\n)\n\nf = symjax.function(outputs=[wavelet, waveletw])\n\nwavelet, waveletw = f()\n\nplt.subplot(121)\nfor i in range(J * Q):\n    plt.plot(2 * i + wavelet[i].real, c=\"b\")\n    plt.plot(2 * i + wavelet[i].imag, c=\"r\")\n\nplt.subplot(122)\nfor i in range(J * Q):\n    plt.plot(i + waveletw[i].real, c=\"b\")\n    plt.plot(i + waveletw[i].imag, c=\"r\")"
      ]
    }
  ],
  "metadata": {
    "kernelspec": {
      "display_name": "Python 3",
      "language": "python",
      "name": "python3"
    },
    "language_info": {
      "codemirror_mode": {
        "name": "ipython",
        "version": 3
      },
      "file_extension": ".py",
      "mimetype": "text/x-python",
      "name": "python",
      "nbconvert_exporter": "python",
      "pygments_lexer": "ipython3",
      "version": "3.7.6"
    }
  },
  "nbformat": 4,
  "nbformat_minor": 0
}