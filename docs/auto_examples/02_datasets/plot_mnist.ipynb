{
  "cells": [
    {
      "cell_type": "code",
      "execution_count": null,
      "metadata": {
        "collapsed": false
      },
      "outputs": [],
      "source": [
        "%matplotlib inline"
      ]
    },
    {
      "cell_type": "markdown",
      "metadata": {},
      "source": [
        "\nMNIST Dataset\n=============\n\n\nThis example shows how to download/load/import MNIST\n"
      ]
    },
    {
      "cell_type": "code",
      "execution_count": null,
      "metadata": {
        "collapsed": false
      },
      "outputs": [],
      "source": [
        "import symjax\nimport matplotlib.pyplot as plt\n\nmnist = symjax.data.mnist.load()\n\nplt.figure(figsize=(10, 4))\nfor i in range(10):\n    plt.subplot(2, 5, 1 + i)\n    plt.imshow(mnist[\"train_set/images\"][i, 0], aspect=\"auto\", cmap=\"Greys\")\n    plt.xticks([])\n    plt.yticks([])\n    plt.title(str(mnist[\"train_set/labels\"][i]))\n\nplt.tight_layout()"
      ]
    }
  ],
  "metadata": {
    "kernelspec": {
      "display_name": "Python 3",
      "language": "python",
      "name": "python3"
    },
    "language_info": {
      "codemirror_mode": {
        "name": "ipython",
        "version": 3
      },
      "file_extension": ".py",
      "mimetype": "text/x-python",
      "name": "python",
      "nbconvert_exporter": "python",
      "pygments_lexer": "ipython3",
      "version": "3.7.6"
    }
  },
  "nbformat": 4,
  "nbformat_minor": 0
}