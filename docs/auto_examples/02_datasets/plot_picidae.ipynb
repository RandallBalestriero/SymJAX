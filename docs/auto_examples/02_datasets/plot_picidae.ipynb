{
  "cells": [
    {
      "cell_type": "code",
      "execution_count": null,
      "metadata": {
        "collapsed": false
      },
      "outputs": [],
      "source": [
        "%matplotlib inline"
      ]
    },
    {
      "cell_type": "markdown",
      "metadata": {},
      "source": [
        "\nSpeech picidae Dataset\n=======================\n\n\nThis example shows how to download/load/import speech picidae\n"
      ]
    },
    {
      "cell_type": "code",
      "execution_count": null,
      "metadata": {
        "collapsed": false
      },
      "outputs": [],
      "source": [
        "import symjax\nimport matplotlib.pyplot as plt\n\npicidae = symjax.data.picidae.load()\n\nplt.figure(figsize=(10, 4))\nfor i in range(10):\n\n    plt.subplot(2, 5, 1 + i)\n    plt.plot(picidae[\"wavs\"][i])\n    plt.title(str(picidae[\"labels\"][i]))\n\nplt.tight_layout()"
      ]
    }
  ],
  "metadata": {
    "kernelspec": {
      "display_name": "Python 3",
      "language": "python",
      "name": "python3"
    },
    "language_info": {
      "codemirror_mode": {
        "name": "ipython",
        "version": 3
      },
      "file_extension": ".py",
      "mimetype": "text/x-python",
      "name": "python",
      "nbconvert_exporter": "python",
      "pygments_lexer": "ipython3",
      "version": "3.7.7"
    }
  },
  "nbformat": 4,
  "nbformat_minor": 0
}