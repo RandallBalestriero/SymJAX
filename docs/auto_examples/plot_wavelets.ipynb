{
  "cells": [
    {
      "cell_type": "code",
      "execution_count": null,
      "metadata": {
        "collapsed": false
      },
      "outputs": [],
      "source": [
        "%matplotlib inline"
      ]
    },
    {
      "cell_type": "markdown",
      "metadata": {},
      "source": [
        "\nSingle-station covariance matrix\n================================\n\n\nThis example shows how to calculate the interchannel spectral covariance matrix. It makes use of the obspy example trace available when installing obspy. This basic example does not apply any synchronization or pre-processing.\n\nConsidering a single seismic station with three channels (NS, EW, and Z), the covariance is of dimensions 3 times 3. The following example use a Fourier estimation window of 1 second and is estimated over 5 consecutive windows.\n"
      ]
    },
    {
      "cell_type": "code",
      "execution_count": null,
      "metadata": {
        "collapsed": false
      },
      "outputs": [],
      "source": [
        "import symjax\nimport symjax.tensor as T\nimport matplotlib.pyplot as plt\nimport numpy as np\n\nJ = 5\nQ = 4\nscales = T.power(2,T.linspace(0.1, J - 1, J * Q))\nscales = scales[:, None]\n\nprint(symjax.tensor.get(scales))\n\nwavelet = symjax.tensor.signal.complex_morlet(5 * scales, np.pi /scales)\nwaveletw = symjax.tensor.signal.fourier_complex_morlet(5 * scales, np.pi /scales, wavelet.shape[-1])\nwaveletlp = symjax.tensor.signal.littewood_paley_normalization(waveletw, down = np.pi / scales[-1, 0])\n\nwavelet = symjax.tensor.get(wavelet)\nwaveletw = symjax.tensor.get(waveletw)\nwaveletlp = symjax.tensor.get(waveletlp)\n\n\n\nplt.subplot(321)\nfor i in range(J*Q):\n    fr = np.real(np.fft.fft(np.fft.ifftshift(wavelet[i])))\n    fi = np.imag(np.fft.fft(np.fft.ifftshift(wavelet[i])))\n    plt.plot(i + fr, '--b')\n    plt.plot(i + fi, '--r')\n\nplt.subplot(322)\nfor i in range(J*Q):\n    plt.plot(2*i + wavelet[i].real, c='b')\n    plt.plot(2*i + wavelet[i].imag, c='r')\n\nplt.subplot(324)\nfor i in range(J*Q):\n    fr = np.real(np.fft.fftshift(np.fft.ifft(waveletw[i])))\n    fi = np.imag(np.fft.fftshift(np.fft.ifft(waveletw[i])))\n    plt.plot(2 * i + fr / fr.max(), '--b')\n    plt.plot(2 * i + fi / fi.max(), '--r')\n\nplt.subplot(323)\nfor i in range(J*Q):\n    plt.plot(i + waveletw[i].real, c='b')\n    plt.plot(i + waveletw[i].imag, c='r')\n\nplt.subplot(325)\nfor i in range(J*Q):\n    plt.plot(i + waveletlp[i].real, c='b')\n    plt.plot(i + waveletlp[i].imag, c='r')\nplt.plot(np.abs(waveletlp).sum(0), c='g')\n\nplt.subplot(326)\nfor i in range(J*Q):\n    fr = np.real(np.fft.fftshift(np.fft.ifft(waveletlp[i])))\n    fi = np.imag(np.fft.fftshift(np.fft.ifft(waveletlp[i])))\n    plt.plot(2 * i + fr / fr.max(), '--b')\n    plt.plot(2 * i + fi / fi.max(), '--r')"
      ]
    }
  ],
  "metadata": {
    "kernelspec": {
      "display_name": "Python 3",
      "language": "python",
      "name": "python3"
    },
    "language_info": {
      "codemirror_mode": {
        "name": "ipython",
        "version": 3
      },
      "file_extension": ".py",
      "mimetype": "text/x-python",
      "name": "python",
      "nbconvert_exporter": "python",
      "pygments_lexer": "ipython3",
      "version": "3.7.6"
    }
  },
  "nbformat": 4,
  "nbformat_minor": 0
}