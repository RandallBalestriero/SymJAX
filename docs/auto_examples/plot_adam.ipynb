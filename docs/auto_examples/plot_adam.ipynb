{
  "cells": [
    {
      "cell_type": "code",
      "execution_count": null,
      "metadata": {
        "collapsed": false
      },
      "outputs": [],
      "source": [
        "%matplotlib inline"
      ]
    },
    {
      "cell_type": "markdown",
      "metadata": {},
      "source": [
        "\nBasic Adam update (and reset)\n=============================\n\ndemonstration on how to use Adam optimizer to minimize a loss\n"
      ]
    },
    {
      "cell_type": "code",
      "execution_count": null,
      "metadata": {
        "collapsed": false
      },
      "outputs": [],
      "source": [
        "import symjax\nimport symjax.tensor as T\nfrom symjax.nn.optimizers import Adam\nimport matplotlib.pyplot as plt\n\n# GRADIENT DESCENT\nz = T.Variable(3.0, dtype=\"float32\", trainable=True)\nloss = T.power(z - 1, 2, name=\"loss\")\nprint(loss)\nAdam(loss, 0.1)\n\ntrain = symjax.function(outputs=[loss, z], updates=symjax.get_updates())\n\nlosses = list()\nvalues = list()\nfor i in range(200):\n    if (i + 1) % 100 == 0:\n        symjax.reset_variables(\"*\")\n    a, b = train()\n    losses.append(a)\n    values.append(b)\n\nplt.figure()\n\nplt.subplot(121)\nplt.plot(losses, \"-x\")\nplt.ylabel(\"loss\")\nplt.xlabel(\"number of gradient updates\")\n\nplt.subplot(122)\nplt.plot(values, \"-x\")\nplt.axhline(1, c=\"red\")\nplt.ylabel(\"value\")\nplt.xlabel(\"number of gradient updates\")\n\nplt.tight_layout()\nplt.show()"
      ]
    }
  ],
  "metadata": {
    "kernelspec": {
      "display_name": "Python 3",
      "language": "python",
      "name": "python3"
    },
    "language_info": {
      "codemirror_mode": {
        "name": "ipython",
        "version": 3
      },
      "file_extension": ".py",
      "mimetype": "text/x-python",
      "name": "python",
      "nbconvert_exporter": "python",
      "pygments_lexer": "ipython3",
      "version": "3.7.7"
    }
  },
  "nbformat": 4,
  "nbformat_minor": 0
}