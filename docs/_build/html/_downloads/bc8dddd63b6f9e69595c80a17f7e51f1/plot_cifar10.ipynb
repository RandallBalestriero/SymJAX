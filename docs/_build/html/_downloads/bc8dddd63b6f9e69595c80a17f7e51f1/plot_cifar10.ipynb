{
  "cells": [
    {
      "cell_type": "code",
      "execution_count": null,
      "metadata": {
        "collapsed": false
      },
      "outputs": [],
      "source": [
        "%matplotlib inline"
      ]
    },
    {
      "cell_type": "markdown",
      "metadata": {},
      "source": [
        "\nCIFAR10 Dataset\n===============\n\n\nThis example shows how to download/load/import CIFAR10\n"
      ]
    },
    {
      "cell_type": "code",
      "execution_count": null,
      "metadata": {
        "collapsed": false
      },
      "outputs": [],
      "source": [
        "import symjax\nimport matplotlib.pyplot as plt\n\ncifar10 = symjax.data.cifar10.load()\n\nplt.figure(figsize=(10, 4))\nfor i in range(10):\n    \n    plt.subplot(2, 5, 1 + i)\n    \n    image = cifar10['train_set/images'][i]\n    label = cifar10['train_set/labels'][i]\n\n    plt.imshow(image.transpose((1, 2, 0)) / image.max(), aspect='auto',\n            cmap='Greys')\n    plt.xticks([])\n    plt.yticks([])\n    plt.title('{}:{}'.format(label, cifar10['label_to_name'][label]))\n\nplt.tight_layout()"
      ]
    }
  ],
  "metadata": {
    "kernelspec": {
      "display_name": "Python 3",
      "language": "python",
      "name": "python3"
    },
    "language_info": {
      "codemirror_mode": {
        "name": "ipython",
        "version": 3
      },
      "file_extension": ".py",
      "mimetype": "text/x-python",
      "name": "python",
      "nbconvert_exporter": "python",
      "pygments_lexer": "ipython3",
      "version": "3.7.5"
    }
  },
  "nbformat": 4,
  "nbformat_minor": 0
}